{
 "cells": [
  {
   "cell_type": "code",
   "execution_count": 62,
   "metadata": {},
   "outputs": [],
   "source": [
    "import pandas as pd\n",
    "import matplotlib.pyplot as plt\n",
    "from sklearn.linear_model import LinearRegression\n",
    "import numpy as np\n",
    "import seaborn as sns"
   ]
  },
  {
   "cell_type": "code",
   "execution_count": 63,
   "metadata": {},
   "outputs": [],
   "source": [
    "df = pd.read_csv('regression2.csv',index_col=0)"
   ]
  },
  {
   "cell_type": "code",
   "execution_count": 64,
   "metadata": {},
   "outputs": [
    {
     "name": "stdout",
     "output_type": "stream",
     "text": [
      "<class 'pandas.core.frame.DataFrame'>\n",
      "Index: 155 entries, 04/07/2018 to 05/12/2018\n",
      "Data columns (total 7 columns):\n",
      "Organic Search           155 non-null int64\n",
      "CRM                      155 non-null int64\n",
      "Paid Search Brand        155 non-null int64\n",
      "Direct                   155 non-null int64\n",
      "Paid Search Non Brand    155 non-null int64\n",
      "Affiliate                155 non-null int64\n",
      "Sales                    155 non-null int64\n",
      "dtypes: int64(7)\n",
      "memory usage: 9.7+ KB\n"
     ]
    }
   ],
   "source": [
    "df.info()"
   ]
  },
  {
   "cell_type": "code",
   "execution_count": 65,
   "metadata": {},
   "outputs": [],
   "source": [
    "X = df.drop('Sales',axis=1)"
   ]
  },
  {
   "cell_type": "code",
   "execution_count": 66,
   "metadata": {},
   "outputs": [],
   "source": [
    "y = df['Sales']"
   ]
  },
  {
   "cell_type": "code",
   "execution_count": 67,
   "metadata": {},
   "outputs": [],
   "source": [
    "from sklearn.cross_validation import train_test_split"
   ]
  },
  {
   "cell_type": "code",
   "execution_count": 68,
   "metadata": {},
   "outputs": [],
   "source": [
    "X_train, X_test, y_train, y_test = train_test_split(X, y, test_size=0.33, random_state=42)"
   ]
  },
  {
   "cell_type": "code",
   "execution_count": 69,
   "metadata": {},
   "outputs": [
    {
     "data": {
      "text/html": [
       "<div>\n",
       "<style scoped>\n",
       "    .dataframe tbody tr th:only-of-type {\n",
       "        vertical-align: middle;\n",
       "    }\n",
       "\n",
       "    .dataframe tbody tr th {\n",
       "        vertical-align: top;\n",
       "    }\n",
       "\n",
       "    .dataframe thead th {\n",
       "        text-align: right;\n",
       "    }\n",
       "</style>\n",
       "<table border=\"1\" class=\"dataframe\">\n",
       "  <thead>\n",
       "    <tr style=\"text-align: right;\">\n",
       "      <th></th>\n",
       "      <th>Organic Search</th>\n",
       "      <th>CRM</th>\n",
       "      <th>Paid Search Brand</th>\n",
       "      <th>Direct</th>\n",
       "      <th>Paid Search Non Brand</th>\n",
       "      <th>Affiliate</th>\n",
       "      <th>Sales</th>\n",
       "    </tr>\n",
       "  </thead>\n",
       "  <tbody>\n",
       "    <tr>\n",
       "      <th>Organic Search</th>\n",
       "      <td>1.000000</td>\n",
       "      <td>0.760566</td>\n",
       "      <td>0.945944</td>\n",
       "      <td>0.959490</td>\n",
       "      <td>0.879696</td>\n",
       "      <td>0.928857</td>\n",
       "      <td>0.971963</td>\n",
       "    </tr>\n",
       "    <tr>\n",
       "      <th>CRM</th>\n",
       "      <td>0.760566</td>\n",
       "      <td>1.000000</td>\n",
       "      <td>0.764856</td>\n",
       "      <td>0.799125</td>\n",
       "      <td>0.612309</td>\n",
       "      <td>0.760573</td>\n",
       "      <td>0.839988</td>\n",
       "    </tr>\n",
       "    <tr>\n",
       "      <th>Paid Search Brand</th>\n",
       "      <td>0.945944</td>\n",
       "      <td>0.764856</td>\n",
       "      <td>1.000000</td>\n",
       "      <td>0.952478</td>\n",
       "      <td>0.899092</td>\n",
       "      <td>0.934482</td>\n",
       "      <td>0.978046</td>\n",
       "    </tr>\n",
       "    <tr>\n",
       "      <th>Direct</th>\n",
       "      <td>0.959490</td>\n",
       "      <td>0.799125</td>\n",
       "      <td>0.952478</td>\n",
       "      <td>1.000000</td>\n",
       "      <td>0.843998</td>\n",
       "      <td>0.935933</td>\n",
       "      <td>0.972251</td>\n",
       "    </tr>\n",
       "    <tr>\n",
       "      <th>Paid Search Non Brand</th>\n",
       "      <td>0.879696</td>\n",
       "      <td>0.612309</td>\n",
       "      <td>0.899092</td>\n",
       "      <td>0.843998</td>\n",
       "      <td>1.000000</td>\n",
       "      <td>0.892117</td>\n",
       "      <td>0.907643</td>\n",
       "    </tr>\n",
       "    <tr>\n",
       "      <th>Affiliate</th>\n",
       "      <td>0.928857</td>\n",
       "      <td>0.760573</td>\n",
       "      <td>0.934482</td>\n",
       "      <td>0.935933</td>\n",
       "      <td>0.892117</td>\n",
       "      <td>1.000000</td>\n",
       "      <td>0.956552</td>\n",
       "    </tr>\n",
       "    <tr>\n",
       "      <th>Sales</th>\n",
       "      <td>0.971963</td>\n",
       "      <td>0.839988</td>\n",
       "      <td>0.978046</td>\n",
       "      <td>0.972251</td>\n",
       "      <td>0.907643</td>\n",
       "      <td>0.956552</td>\n",
       "      <td>1.000000</td>\n",
       "    </tr>\n",
       "  </tbody>\n",
       "</table>\n",
       "</div>"
      ],
      "text/plain": [
       "                       Organic Search       CRM  Paid Search Brand    Direct  \\\n",
       "Organic Search               1.000000  0.760566           0.945944  0.959490   \n",
       "CRM                          0.760566  1.000000           0.764856  0.799125   \n",
       "Paid Search Brand            0.945944  0.764856           1.000000  0.952478   \n",
       "Direct                       0.959490  0.799125           0.952478  1.000000   \n",
       "Paid Search Non Brand        0.879696  0.612309           0.899092  0.843998   \n",
       "Affiliate                    0.928857  0.760573           0.934482  0.935933   \n",
       "Sales                        0.971963  0.839988           0.978046  0.972251   \n",
       "\n",
       "                       Paid Search Non Brand  Affiliate     Sales  \n",
       "Organic Search                      0.879696   0.928857  0.971963  \n",
       "CRM                                 0.612309   0.760573  0.839988  \n",
       "Paid Search Brand                   0.899092   0.934482  0.978046  \n",
       "Direct                              0.843998   0.935933  0.972251  \n",
       "Paid Search Non Brand               1.000000   0.892117  0.907643  \n",
       "Affiliate                           0.892117   1.000000  0.956552  \n",
       "Sales                               0.907643   0.956552  1.000000  "
      ]
     },
     "execution_count": 69,
     "metadata": {},
     "output_type": "execute_result"
    }
   ],
   "source": [
    "df.corr()"
   ]
  },
  {
   "cell_type": "markdown",
   "metadata": {},
   "source": [
    "Fitting a simple linear regression model first#"
   ]
  },
  {
   "cell_type": "code",
   "execution_count": 70,
   "metadata": {},
   "outputs": [],
   "source": [
    "lm = LinearRegression()"
   ]
  },
  {
   "cell_type": "code",
   "execution_count": 71,
   "metadata": {},
   "outputs": [
    {
     "data": {
      "text/plain": [
       "LinearRegression(copy_X=True, fit_intercept=True, n_jobs=1, normalize=False)"
      ]
     },
     "execution_count": 71,
     "metadata": {},
     "output_type": "execute_result"
    }
   ],
   "source": [
    "lm.fit(X_train,y_train)"
   ]
  },
  {
   "cell_type": "code",
   "execution_count": 74,
   "metadata": {},
   "outputs": [
    {
     "data": {
      "text/html": [
       "<div>\n",
       "<style scoped>\n",
       "    .dataframe tbody tr th:only-of-type {\n",
       "        vertical-align: middle;\n",
       "    }\n",
       "\n",
       "    .dataframe tbody tr th {\n",
       "        vertical-align: top;\n",
       "    }\n",
       "\n",
       "    .dataframe thead th {\n",
       "        text-align: right;\n",
       "    }\n",
       "</style>\n",
       "<table border=\"1\" class=\"dataframe\">\n",
       "  <thead>\n",
       "    <tr style=\"text-align: right;\">\n",
       "      <th></th>\n",
       "      <th>0</th>\n",
       "    </tr>\n",
       "  </thead>\n",
       "  <tbody>\n",
       "    <tr>\n",
       "      <th>Organic Search</th>\n",
       "      <td>1.005797</td>\n",
       "    </tr>\n",
       "    <tr>\n",
       "      <th>CRM</th>\n",
       "      <td>1.014008</td>\n",
       "    </tr>\n",
       "    <tr>\n",
       "      <th>Paid Search Brand</th>\n",
       "      <td>1.222584</td>\n",
       "    </tr>\n",
       "    <tr>\n",
       "      <th>Direct</th>\n",
       "      <td>1.195946</td>\n",
       "    </tr>\n",
       "    <tr>\n",
       "      <th>Paid Search Non Brand</th>\n",
       "      <td>1.561424</td>\n",
       "    </tr>\n",
       "    <tr>\n",
       "      <th>Affiliate</th>\n",
       "      <td>0.493654</td>\n",
       "    </tr>\n",
       "  </tbody>\n",
       "</table>\n",
       "</div>"
      ],
      "text/plain": [
       "                              0\n",
       "Organic Search         1.005797\n",
       "CRM                    1.014008\n",
       "Paid Search Brand      1.222584\n",
       "Direct                 1.195946\n",
       "Paid Search Non Brand  1.561424\n",
       "Affiliate              0.493654"
      ]
     },
     "execution_count": 74,
     "metadata": {},
     "output_type": "execute_result"
    }
   ],
   "source": [
    "pd.DataFrame(lm.coef_, X.columns)"
   ]
  },
  {
   "cell_type": "code",
   "execution_count": 75,
   "metadata": {},
   "outputs": [],
   "source": [
    "predictions = lm.predict(X_test)"
   ]
  },
  {
   "cell_type": "code",
   "execution_count": 76,
   "metadata": {},
   "outputs": [
    {
     "data": {
      "text/plain": [
       "<matplotlib.collections.PathCollection at 0x252b34ad048>"
      ]
     },
     "execution_count": 76,
     "metadata": {},
     "output_type": "execute_result"
    },
    {
     "data": {
      "image/png": "[encoded data removed]",
      "text/plain": [
       "<Figure size 432x288 with 1 Axes>"
      ]
     },
     "metadata": {
      "needs_background": "light"
     },
     "output_type": "display_data"
    }
   ],
   "source": [
    "plt.scatter(y_test,predictions)"
   ]
  },
  {
   "cell_type": "code",
   "execution_count": 104,
   "metadata": {},
   "outputs": [],
   "source": [
    "from sklearn import metrics"
   ]
  },
  {
   "cell_type": "code",
   "execution_count": 105,
   "metadata": {},
   "outputs": [
    {
     "name": "stdout",
     "output_type": "stream",
     "text": [
      "MAE:  147.0315201718888\n",
      "MSE:  39892.79584938487\n",
      "RMSE:  199.73180980851515\n"
     ]
    }
   ],
   "source": [
    "print('MAE: ', metrics.mean_absolute_error(y_test,predictions))\n",
    "print('MSE: ', metrics.mean_squared_error(y_test,predictions))\n",
    "print('RMSE: ', np.sqrt(metrics.mean_squared_error(y_test,predictions)))"
   ]
  },
  {
   "cell_type": "code",
   "execution_count": 106,
   "metadata": {},
   "outputs": [
    {
     "data": {
      "text/plain": [
       "0.9985605111869159"
      ]
     },
     "execution_count": 106,
     "metadata": {},
     "output_type": "execute_result"
    }
   ],
   "source": [
    "metrics.explained_variance_score(y_test,predictions)"
   ]
  },
  {
   "cell_type": "code",
   "execution_count": 107,
   "metadata": {},
   "outputs": [
    {
     "name": "stderr",
     "output_type": "stream",
     "text": [
      "C:\\Users\\felix.therrien\\AppData\\Local\\Continuum\\anaconda3\\lib\\site-packages\\scipy\\stats\\stats.py:1713: FutureWarning: Using a non-tuple sequence for multidimensional indexing is deprecated; use `arr[tuple(seq)]` instead of `arr[seq]`. In the future this will be interpreted as an array index, `arr[np.array(seq)]`, which will result either in an error or a different result.\n",
      "  return np.add.reduce(sorted[indexer] * weights, axis=axis) / sumval\n"
     ]
    },
    {
     "data": {
      "text/plain": [
       "<matplotlib.axes._subplots.AxesSubplot at 0x252b3843908>"
      ]
     },
     "execution_count": 107,
     "metadata": {},
     "output_type": "execute_result"
    },
    {
     "data": {
      "image/png": "[encoded data removed]",
      "text/plain": [
       "<Figure size 432x288 with 1 Axes>"
      ]
     },
     "metadata": {
      "needs_background": "light"
     },
     "output_type": "display_data"
    }
   ],
   "source": [
    "sns.distplot((y_test-predictions),bins=50)"
   ]
  },
  {
   "cell_type": "code",
   "execution_count": 81,
   "metadata": {},
   "outputs": [],
   "source": [
    "import statsmodels.api as sm"
   ]
  },
  {
   "cell_type": "code",
   "execution_count": 95,
   "metadata": {},
   "outputs": [],
   "source": [
    "ols_model = sm.OLS(y_train, X_train).fit()"
   ]
  },
  {
   "cell_type": "code",
   "execution_count": 96,
   "metadata": {},
   "outputs": [],
   "source": [
    "ols_preds = ols_model.predict(X_test)"
   ]
  },
  {
   "cell_type": "code",
   "execution_count": 97,
   "metadata": {
    "scrolled": true
   },
   "outputs": [
    {
     "name": "stdout",
     "output_type": "stream",
     "text": [
      "                            OLS Regression Results                            \n",
      "==============================================================================\n",
      "Dep. Variable:                  Sales   R-squared:                       1.000\n",
      "Model:                            OLS   Adj. R-squared:                  1.000\n",
      "Method:                 Least Squares   F-statistic:                 6.006e+04\n",
      "Date:                Tue, 11 Dec 2018   Prob (F-statistic):          8.84e-171\n",
      "Time:                        11:25:41   Log-Likelihood:                -678.60\n",
      "No. Observations:                 103   AIC:                             1369.\n",
      "Df Residuals:                      97   BIC:                             1385.\n",
      "Df Model:                           6                                         \n",
      "Covariance Type:            nonrobust                                         \n",
      "=========================================================================================\n",
      "                            coef    std err          t      P>|t|      [0.025      0.975]\n",
      "-----------------------------------------------------------------------------------------\n",
      "Organic Search            0.8449      0.056     15.123      0.000       0.734       0.956\n",
      "CRM                       1.0113      0.026     38.890      0.000       0.960       1.063\n",
      "Paid Search Brand         1.3863      0.055     25.318      0.000       1.278       1.495\n",
      "Direct                    1.0989      0.124      8.884      0.000       0.853       1.344\n",
      "Paid Search Non Brand     1.5419      0.063     24.350      0.000       1.416       1.668\n",
      "Affiliate                 0.5429      0.105      5.155      0.000       0.334       0.752\n",
      "==============================================================================\n",
      "Omnibus:                       18.436   Durbin-Watson:                   2.027\n",
      "Prob(Omnibus):                  0.000   Jarque-Bera (JB):               23.343\n",
      "Skew:                           0.930   Prob(JB):                     8.53e-06\n",
      "Kurtosis:                       4.407   Cond. No.                         33.6\n",
      "==============================================================================\n",
      "\n",
      "Warnings:\n",
      "[1] Standard Errors assume that the covariance matrix of the errors is correctly specified.\n"
     ]
    }
   ],
   "source": [
    "ols_summary = ols_model.summary()\n",
    "print(ols_summary)"
   ]
  },
  {
   "cell_type": "code",
   "execution_count": 103,
   "metadata": {},
   "outputs": [
    {
     "data": {
      "text/plain": [
       "<matplotlib.collections.PathCollection at 0x252b37ecb70>"
      ]
     },
     "execution_count": 103,
     "metadata": {},
     "output_type": "execute_result"
    },
    {
     "data": {
      "image/png": "[encoded data removed]",
      "text/plain": [
       "<Figure size 432x288 with 1 Axes>"
      ]
     },
     "metadata": {
      "needs_background": "light"
     },
     "output_type": "display_data"
    }
   ],
   "source": [
    "plt.scatter(y_test,ols_preds)"
   ]
  },
  {
   "cell_type": "code",
   "execution_count": 98,
   "metadata": {},
   "outputs": [],
   "source": [
    "from sklearn.linear_model import Lasso"
   ]
  },
  {
   "cell_type": "code",
   "execution_count": 121,
   "metadata": {},
   "outputs": [],
   "source": [
    "lasso = Lasso(alpha=0.3)"
   ]
  },
  {
   "cell_type": "code",
   "execution_count": 122,
   "metadata": {},
   "outputs": [
    {
     "data": {
      "text/plain": [
       "Lasso(alpha=0.3, copy_X=True, fit_intercept=True, max_iter=1000,\n",
       "   normalize=False, positive=False, precompute=False, random_state=None,\n",
       "   selection='cyclic', tol=0.0001, warm_start=False)"
      ]
     },
     "execution_count": 122,
     "metadata": {},
     "output_type": "execute_result"
    }
   ],
   "source": [
    "lasso.fit(X_train, y_train)"
   ]
  },
  {
   "cell_type": "code",
   "execution_count": 123,
   "metadata": {},
   "outputs": [],
   "source": [
    "lasso_preds = lasso.predict(X_test)"
   ]
  },
  {
   "cell_type": "code",
   "execution_count": 124,
   "metadata": {},
   "outputs": [
    {
     "data": {
      "text/html": [
       "<div>\n",
       "<style scoped>\n",
       "    .dataframe tbody tr th:only-of-type {\n",
       "        vertical-align: middle;\n",
       "    }\n",
       "\n",
       "    .dataframe tbody tr th {\n",
       "        vertical-align: top;\n",
       "    }\n",
       "\n",
       "    .dataframe thead th {\n",
       "        text-align: right;\n",
       "    }\n",
       "</style>\n",
       "<table border=\"1\" class=\"dataframe\">\n",
       "  <thead>\n",
       "    <tr style=\"text-align: right;\">\n",
       "      <th></th>\n",
       "      <th>0</th>\n",
       "    </tr>\n",
       "  </thead>\n",
       "  <tbody>\n",
       "    <tr>\n",
       "      <th>Organic Search</th>\n",
       "      <td>1.005805</td>\n",
       "    </tr>\n",
       "    <tr>\n",
       "      <th>CRM</th>\n",
       "      <td>1.014008</td>\n",
       "    </tr>\n",
       "    <tr>\n",
       "      <th>Paid Search Brand</th>\n",
       "      <td>1.222584</td>\n",
       "    </tr>\n",
       "    <tr>\n",
       "      <th>Direct</th>\n",
       "      <td>1.195932</td>\n",
       "    </tr>\n",
       "    <tr>\n",
       "      <th>Paid Search Non Brand</th>\n",
       "      <td>1.561422</td>\n",
       "    </tr>\n",
       "    <tr>\n",
       "      <th>Affiliate</th>\n",
       "      <td>0.493656</td>\n",
       "    </tr>\n",
       "  </tbody>\n",
       "</table>\n",
       "</div>"
      ],
      "text/plain": [
       "                              0\n",
       "Organic Search         1.005805\n",
       "CRM                    1.014008\n",
       "Paid Search Brand      1.222584\n",
       "Direct                 1.195932\n",
       "Paid Search Non Brand  1.561422\n",
       "Affiliate              0.493656"
      ]
     },
     "execution_count": 124,
     "metadata": {},
     "output_type": "execute_result"
    }
   ],
   "source": [
    "pd.DataFrame(lasso.coef_, X.columns)"
   ]
  },
  {
   "cell_type": "code",
   "execution_count": 92,
   "metadata": {},
   "outputs": [
    {
     "data": {
      "text/plain": [
       "<matplotlib.collections.PathCollection at 0x252b3645eb8>"
      ]
     },
     "execution_count": 92,
     "metadata": {},
     "output_type": "execute_result"
    },
    {
     "data": {
      "image/png": "[encoded data removed]",
      "text/plain": [
       "<Figure size 432x288 with 1 Axes>"
      ]
     },
     "metadata": {
      "needs_background": "light"
     },
     "output_type": "display_data"
    }
   ],
   "source": [
    "plt.scatter(y_test,lasso_preds)"
   ]
  },
  {
   "cell_type": "code",
   "execution_count": null,
   "metadata": {},
   "outputs": [],
   "source": []
  }
 ],
 "metadata": {
  "kernelspec": {
   "display_name": "Python 3",
   "language": "python",
   "name": "python3"
  },
  "language_info": {
   "codemirror_mode": {
    "name": "ipython",
    "version": 3
   },
   "file_extension": ".py",
   "mimetype": "text/x-python",
   "name": "python",
   "nbconvert_exporter": "python",
   "pygments_lexer": "ipython3",
   "version": "3.7.0"
  }
 },
 "nbformat": 4,
 "nbformat_minor": 2
}
